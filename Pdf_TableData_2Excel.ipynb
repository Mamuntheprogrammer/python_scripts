{
 "cells": [
  {
   "cell_type": "code",
   "execution_count": 4,
   "id": "b27f84d7",
   "metadata": {
    "scrolled": true
   },
   "outputs": [
    {
     "data": {
      "text/plain": [
       "'extracted_data.xlsx'"
      ]
     },
     "execution_count": 4,
     "metadata": {},
     "output_type": "execute_result"
    }
   ],
   "source": [
    "import camelot\n",
    "import pandas as pd\n",
    "\n",
    "def extract_tables_from_pdf(pdf_path, pages_to_extract):\n",
    "    # Extract tables using camelot\n",
    "    tables = camelot.read_pdf(pdf_path, pages=f'1-{pages_to_extract}', flavor='stream')\n",
    "    \n",
    "    # Concatenate all tables into a single DataFrame\n",
    "    all_tables = pd.concat([table.df for table in tables], ignore_index=True)\n",
    "    \n",
    "    return all_tables\n",
    "\n",
    "# Define the PDF path and number of pages to extract\n",
    "pdf_path = 'july.PDF'\n",
    "pages_to_extract = 20  # Adjust this based on your requirement\n",
    "\n",
    "# Extract tables\n",
    "df = extract_tables_from_pdf(pdf_path, pages_to_extract)\n",
    "\n",
    "# Export to Excel\n",
    "output_path = 'extracted_data.xlsx'\n",
    "df.to_excel(output_path, index=False)\n",
    "\n",
    "output_path"
   ]
  },
  {
   "cell_type": "code",
   "execution_count": null,
   "id": "0baea352",
   "metadata": {},
   "outputs": [],
   "source": []
  }
 ],
 "metadata": {
  "kernelspec": {
   "display_name": "Python 3 (ipykernel)",
   "language": "python",
   "name": "python3"
  },
  "language_info": {
   "codemirror_mode": {
    "name": "ipython",
    "version": 3
   },
   "file_extension": ".py",
   "mimetype": "text/x-python",
   "name": "python",
   "nbconvert_exporter": "python",
   "pygments_lexer": "ipython3",
   "version": "3.11.0"
  }
 },
 "nbformat": 4,
 "nbformat_minor": 5
}
